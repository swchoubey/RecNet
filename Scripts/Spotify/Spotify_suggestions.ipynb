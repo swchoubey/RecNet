{
  "cells": [
    {
      "cell_type": "markdown",
      "id": "2e6e09bb",
      "metadata": {
        "id": "2e6e09bb"
      },
      "source": [
        "# Getting data from spotify for RecNet"
      ]
    },
    {
      "cell_type": "code",
      "execution_count": null,
      "id": "17def3d3",
      "metadata": {
        "id": "17def3d3"
      },
      "outputs": [],
      "source": [
        "import pandas as pd\n",
        "import requests\n",
        "from requests.structures import CaseInsensitiveDict\n",
        "import json\n",
        "\n",
        "pd.options.mode.chained_assignment = None  # default='warn'"
      ]
    },
    {
      "cell_type": "code",
      "source": [
        "import numpy as np\n"
      ],
      "metadata": {
        "id": "64LyCI2QxDNe"
      },
      "id": "64LyCI2QxDNe",
      "execution_count": null,
      "outputs": []
    },
    {
      "cell_type": "markdown",
      "id": "1216466e",
      "metadata": {
        "id": "1216466e"
      },
      "source": [
        "### Update your username below. This is just to identify that its your data, so it can be anything. In the actual implementation this can be replaced with RecNet username."
      ]
    },
    {
      "cell_type": "code",
      "execution_count": null,
      "id": "8f8c5288",
      "metadata": {
        "id": "8f8c5288"
      },
      "outputs": [],
      "source": [
        "username = ''"
      ]
    },
    {
      "cell_type": "markdown",
      "id": "ce7fee1e",
      "metadata": {
        "id": "ce7fee1e"
      },
      "source": [
        "### Step 1: Download a csv file from https://watsonbox.github.io/exportify/, and assign the path variable with its appropriate location."
      ]
    },
    {
      "cell_type": "code",
      "execution_count": null,
      "id": "9bf09b37",
      "metadata": {
        "id": "9bf09b37"
      },
      "outputs": [],
      "source": [
        "path = 'liked.csv'\n",
        "df = pd.read_csv(path)\n",
        "print(\"Downloaded data:\")\n",
        "df"
      ]
    },
    {
      "cell_type": "code",
      "execution_count": null,
      "id": "9fae2caa",
      "metadata": {
        "id": "9fae2caa"
      },
      "outputs": [],
      "source": [
        "print(\"Relevant data: \")\n",
        "data = df[['Track URI', 'Track Name', 'Artist URI(s)', 'Artist Name(s)', 'Popularity']]\n",
        "for i, row in data.iterrows():\n",
        "    data.at[i, 'Artist'] = row['Artist Name(s)'].split(',')[0]\n",
        "    data.at[i, 'Other Artists'] = ','.join(row['Artist Name(s)'].split(',')[1:])\n",
        "data"
      ]
    },
    {
      "cell_type": "markdown",
      "id": "abc12850",
      "metadata": {
        "id": "abc12850"
      },
      "source": [
        "### Assign the genereted on Spotify console below (as a string)\n",
        "Generate code here: https://developer.spotify.com/console/get-audio-features-several-tracks/\n",
        "\n",
        "Note: Make sure you copy the entire token (its kinda huge and may have a lot of hyphens, so avoid selecting using a double click, instead use cmd+A (or its equivalent))"
      ]
    },
    {
      "cell_type": "code",
      "execution_count": null,
      "id": "b9d70a87",
      "metadata": {
        "id": "b9d70a87"
      },
      "outputs": [],
      "source": [
        "token = ''"
      ]
    },
    {
      "cell_type": "code",
      "execution_count": null,
      "id": "e7903606",
      "metadata": {
        "id": "e7903606"
      },
      "outputs": [],
      "source": [
        "track_ids = 'ids='\n",
        "for row in df['Track URI']:\n",
        "    track_ids += row.split(':')[2] + '%2C'\n",
        "track_ids\n",
        "\n",
        "url = \"https://api.spotify.com/v1/audio-features\"\n",
        "url += '?' + track_ids\n",
        "headers = CaseInsensitiveDict()\n",
        "headers[\"Accept\"] = \"application/json\"\n",
        "headers[\"Content-Type\"] = \"application/json\"\n",
        "headers[\"Authorization\"] = \"Bearer \" + token\n",
        "resp = requests.get(url, headers=headers)\n",
        "audio_features_json = resp.json()\n",
        "audio_features_df = pd.json_normalize(audio_features_json['audio_features'])\n",
        "audio_features = audio_features_df[['uri', 'danceability', 'energy', 'loudness', 'speechiness', 'acousticness', 'instrumentalness', 'liveness', 'valence']]\n",
        "audio_features = audio_features.rename(columns = {'uri': 'Track URI'})\n",
        "audio_features"
      ]
    },
    {
      "cell_type": "markdown",
      "id": "d41418eb",
      "metadata": {
        "id": "d41418eb"
      },
      "source": [
        "### Extracting album ids and getting genre details"
      ]
    },
    {
      "cell_type": "code",
      "execution_count": null,
      "id": "f5433153",
      "metadata": {
        "id": "f5433153"
      },
      "outputs": [],
      "source": [
        "album_ids = []\n",
        "\n",
        "for row in df['Album URI']:\n",
        "    album_ids.append(row.split(':')[2])\n",
        "    \n",
        "album_ids = list(dict.fromkeys(album_ids))\n",
        "batch_size = 15\n",
        "batches = []\n",
        "i = 0\n",
        "while i < len(album_ids):\n",
        "    batch = album_ids[i:i+batch_size]\n",
        "    i += len(batch)\n",
        "    batches.append(batch)\n",
        "    \n",
        "# del(album_genres)\n",
        "for batch in batches:\n",
        "    album_ids_url = 'ids='\n",
        "    for album_id in batch:\n",
        "        album_ids_url += album_id + '%2C'\n",
        "    \n",
        "    album_ids_url = album_ids_url[0:len(album_ids_url) - 3]\n",
        "    url = \"https://api.spotify.com/v1/albums\"\n",
        "    url += '?' + album_ids_url\n",
        "    \n",
        "    headers = CaseInsensitiveDict()\n",
        "    headers[\"Accept\"] = \"application/json\"\n",
        "    headers[\"Content-Type\"] = \"application/json\"\n",
        "    headers[\"Authorization\"] = \"Bearer \" + token\n",
        "    resp = requests.get(url, headers=headers)\n",
        "    album_details_json = resp.json()\n",
        "\n",
        "    album_details_df = pd.json_normalize(album_details_json['albums'])\n",
        "    try:\n",
        "        album_genres\n",
        "    except NameError:\n",
        "        album_genres = album_details_df[['uri', 'genres']]\n",
        "        album_genres = album_genres.rename(columns = {'uri': 'Album URI'})\n",
        "    else:\n",
        "        album_genres2 = album_details_df[['uri', 'genres']]\n",
        "        album_genres2 = album_genres2.rename(columns = {'uri': 'Album URI'})\n",
        "        album_genres = pd.concat([album_genres, album_genres2],ignore_index=True)\n",
        "album_genres\n"
      ]
    },
    {
      "cell_type": "markdown",
      "id": "2fbb6d5c",
      "metadata": {
        "id": "2fbb6d5c"
      },
      "source": [
        "## Merging all the retrieved data and saving it to username_spotifydata.csv."
      ]
    },
    {
      "cell_type": "code",
      "execution_count": null,
      "id": "e3fc57e3",
      "metadata": {
        "id": "e3fc57e3"
      },
      "outputs": [],
      "source": [
        "data = df[['Track URI', 'Album URI', 'Track Name', 'Artist URI(s)', 'Artist Name(s)', 'Popularity']]\n",
        "data = pd.merge(data, audio_features, on = ['Track URI'])\n",
        "data = pd.merge(data, album_genres, on=['Album URI'])\n",
        "data['Username'] = username\n",
        "data"
      ]
    },
    {
      "cell_type": "code",
      "execution_count": null,
      "id": "7a2c8ac4",
      "metadata": {
        "id": "7a2c8ac4"
      },
      "outputs": [],
      "source": [
        "data.to_csv(username + 'spotifydata.csv')"
      ]
    },
    {
      "cell_type": "code",
      "source": [
        "columns = [\"energy\",  \"speechiness\", \"acousticness\", \"instrumentalness\", \"loudness\", \"danceability\",'valence' , \"liveness\"]"
      ],
      "metadata": {
        "id": "r2MEXxuIvKOF"
      },
      "id": "r2MEXxuIvKOF",
      "execution_count": null,
      "outputs": []
    },
    {
      "cell_type": "code",
      "source": [
        "audio_features[\"loudness\"] = (audio_features['loudness']-audio_features['loudness'].min())/(audio_features['loudness'].max()-audio_features['loudness'].min())"
      ],
      "metadata": {
        "id": "Mn9IrxutvNKL"
      },
      "id": "Mn9IrxutvNKL",
      "execution_count": null,
      "outputs": []
    },
    {
      "cell_type": "code",
      "source": [
        "audio_features.to_csv(username + 'songFeatures.csv')"
      ],
      "metadata": {
        "id": "vpma6STmEwE-"
      },
      "id": "vpma6STmEwE-",
      "execution_count": null,
      "outputs": []
    },
    {
      "cell_type": "markdown",
      "source": [
        "### Taking the data and using it to get similar songs based on user likes\n",
        "\n",
        "The script ahead takes audio_features_p1 to be the liked songs of user_1 and audio_features_p2 to be liked songs for user_2.  "
      ],
      "metadata": {
        "id": "RPyiyLKFF8wF"
      },
      "id": "RPyiyLKFF8wF"
    },
    {
      "cell_type": "code",
      "source": [
        "data = pd.read_csv(username + 'spotifydata.csv')\n",
        "audio_features = pd.read_csv(username + 'songFeatures.csv')"
      ],
      "metadata": {
        "id": "D5Lng5X7vdDq"
      },
      "id": "D5Lng5X7vdDq",
      "execution_count": null,
      "outputs": []
    },
    {
      "cell_type": "code",
      "source": [
        "def euclidean_distance(arg1, arg2):\n",
        "  '''\n",
        "  Returns the euclidean distance between arg1 and arg2\n",
        "  \n",
        "  Parameters\n",
        "            arg1 (numpy array)\n",
        "            arg2 (numpy array)\n",
        "  Output\n",
        "            float distance\n",
        "  '''\n",
        "  return np.sqrt(np.sum((arg1 - arg2)**2))"
      ],
      "metadata": {
        "id": "KFOiE7ERsDOH"
      },
      "execution_count": null,
      "outputs": [],
      "id": "KFOiE7ERsDOH"
    },
    {
      "cell_type": "code",
      "source": [
        "# !pip install yellowbrick\n",
        "# !pip install scikit-learn-extra"
      ],
      "metadata": {
        "id": "Qkx-jDY5xMn5"
      },
      "id": "Qkx-jDY5xMn5",
      "execution_count": null,
      "outputs": []
    },
    {
      "cell_type": "code",
      "source": [
        "from sklearn_extra.cluster import KMedoids\n",
        "from sklearn.cluster import KMeans"
      ],
      "metadata": {
        "id": "vm7l2bkavhV3"
      },
      "execution_count": null,
      "outputs": [],
      "id": "vm7l2bkavhV3"
    },
    {
      "cell_type": "code",
      "source": [
        "audio_features[columns]"
      ],
      "metadata": {
        "id": "h8ePYKpN1X2o"
      },
      "execution_count": null,
      "outputs": [],
      "id": "h8ePYKpN1X2o"
    },
    {
      "cell_type": "code",
      "source": [
        "from yellowbrick.cluster import KElbowVisualizer"
      ],
      "metadata": {
        "id": "nTWxT8y94qaI"
      },
      "execution_count": null,
      "outputs": [],
      "id": "nTWxT8y94qaI"
    },
    {
      "cell_type": "code",
      "source": [
        "model = KMedoids()\n",
        "visualizer = KElbowVisualizer(model, k=(2,8), metric='distortion', timings=False)\n",
        "visualizer.fit(audio_features[columns])\n",
        "score = visualizer.elbow_score_\n",
        "value = visualizer.elbow_value_\n"
      ],
      "metadata": {
        "id": "u4SNn0ZtCiGD"
      },
      "execution_count": null,
      "outputs": [],
      "id": "u4SNn0ZtCiGD"
    },
    {
      "cell_type": "code",
      "source": [
        "kmed = KMedoids(n_clusters=5, random_state=12022).fit(audio_features[columns])"
      ],
      "metadata": {
        "id": "nIMj48oX06Oy"
      },
      "execution_count": null,
      "outputs": [],
      "id": "nIMj48oX06Oy"
    },
    {
      "cell_type": "code",
      "source": [
        "kmed.labels_"
      ],
      "metadata": {
        "id": "JhmfmcTs1gPQ"
      },
      "execution_count": null,
      "outputs": [],
      "id": "JhmfmcTs1gPQ"
    },
    {
      "cell_type": "code",
      "source": [
        "kmed.predict([audio_features.iloc[3][columns]])"
      ],
      "metadata": {
        "id": "CmACpuYo12vj"
      },
      "execution_count": null,
      "outputs": [],
      "id": "CmACpuYo12vj"
    },
    {
      "cell_type": "code",
      "source": [
        "# Take the 5 elements with least distances from centroid \n",
        "chosen_element = audio_features[columns].apply(lambda row : euclidean_distance(row, kmed.cluster_centers_[1]), axis=1).nsmallest(5).index"
      ],
      "metadata": {
        "id": "xH6t1o57KE5u"
      },
      "execution_count": null,
      "outputs": [],
      "id": "xH6t1o57KE5u"
    },
    {
      "cell_type": "code",
      "source": [
        "def getAlbumFromTrack(tracks, features_data):\n",
        "  '''\n",
        "  This function takes in the track ID and returns the album ID from the dataframe\n",
        "  '''\n",
        "  ret = []\n",
        "  for index, track in tracks.iteritems():\n",
        "    df_item = features_data[features_data['Track URI'] == track]['Album URI'].item()\n",
        "    ret.append(df_item[df_item.rfind(':')+1:])\n",
        "  return ret"
      ],
      "metadata": {
        "id": "UUn9uwStCoDm"
      },
      "execution_count": null,
      "outputs": [],
      "id": "UUn9uwStCoDm"
    },
    {
      "cell_type": "code",
      "source": [
        "album_id = getAlbumFromTrack(audio_features['Track URI'].loc[chosen_element], data)"
      ],
      "metadata": {
        "id": "pBclLkYNe8Dn"
      },
      "id": "pBclLkYNe8Dn",
      "execution_count": null,
      "outputs": []
    },
    {
      "cell_type": "code",
      "source": [
        "def getTrackSuggestionFromAlbum(album_ids):\n",
        "  '''\n",
        "\n",
        "  This function takes in mmultiple album IDs and gets a recommendation from the songs in an album\n",
        "  '''\n",
        "\n",
        "  url = \"https://api.spotify.com/v1/albums/\"\n",
        "  # url += album_id + '/tracks'\n",
        "  urls = [url + album_id + '/tracks' for album_id in album_ids]\n",
        "  headers = CaseInsensitiveDict()\n",
        "  headers[\"Accept\"] = \"application/json\"\n",
        "  headers[\"Content-Type\"] = \"application/json\"\n",
        "  headers[\"Authorization\"] = \"Bearer \" + token\n",
        "  ret = []\n",
        "  for url in urls:\n",
        "    resp = requests.get(url, headers=headers)\n",
        "    album_tracks_json = resp.json()\n",
        "\n",
        "    album_tracks_df = pd.json_normalize(album_tracks_json['items'])\n",
        "    idx = np.random.randint(len(album_tracks_df))\n",
        "    ret.append({'song_name':album_tracks_df['name'].iloc[idx], 'song_url': album_tracks_df['external_urls.spotify'].iloc[idx]})\n",
        "  return ret"
      ],
      "metadata": {
        "id": "AcdQcVCYEs41"
      },
      "id": "AcdQcVCYEs41",
      "execution_count": null,
      "outputs": []
    },
    {
      "cell_type": "code",
      "source": [
        "getTrackSuggestionFromAlbum(album_id)"
      ],
      "metadata": {
        "id": "L71HCkhSiWR-"
      },
      "id": "L71HCkhSiWR-",
      "execution_count": null,
      "outputs": []
    },
    {
      "cell_type": "markdown",
      "source": [
        "Test for compatibility between person 1 and person 2\n"
      ],
      "metadata": {
        "id": "NLPAPsPvd9z0"
      },
      "id": "NLPAPsPvd9z0"
    },
    {
      "cell_type": "code",
      "source": [
        "path = 'liked_p2.csv'\n",
        "df = pd.read_csv(path)\n",
        "print(\"Downloaded data:\")\n",
        "df"
      ],
      "metadata": {
        "id": "LtyhlGwAFPNq"
      },
      "id": "LtyhlGwAFPNq",
      "execution_count": null,
      "outputs": []
    },
    {
      "cell_type": "code",
      "source": [
        "track_ids = 'ids='\n",
        "for row in df['Track URI']:\n",
        "    track_ids += row.split(':')[2] + '%2C'\n",
        "track_ids\n",
        "\n",
        "url = \"https://api.spotify.com/v1/audio-features\"\n",
        "url += '?' + track_ids\n",
        "headers = CaseInsensitiveDict()\n",
        "headers[\"Accept\"] = \"application/json\"\n",
        "headers[\"Content-Type\"] = \"application/json\"\n",
        "headers[\"Authorization\"] = \"Bearer \" + token\n",
        "resp = requests.get(url, headers=headers)\n",
        "audio_features_json = resp.json()\n",
        "audio_features_df = pd.json_normalize(audio_features_json['audio_features'])\n",
        "audio_features_p2 = audio_features_df[['uri', 'danceability', 'energy', 'loudness', 'speechiness', 'acousticness', 'instrumentalness', 'liveness', 'valence']]\n",
        "audio_features_p2 = audio_features_p2.rename(columns = {'uri': 'Track URI'})\n",
        "# audio_features\n",
        "audio_features_p2[\"loudness\"] = (audio_features_p2['loudness']-audio_features_p2['loudness'].min())/(audio_features_p2['loudness'].max()-audio_features_p2['loudness'].min())\n"
      ],
      "metadata": {
        "id": "6TYHzIle1CYS"
      },
      "id": "6TYHzIle1CYS",
      "execution_count": null,
      "outputs": []
    },
    {
      "cell_type": "code",
      "source": [
        "model = kmed"
      ],
      "metadata": {
        "id": "FKfWZMKKeBr0"
      },
      "id": "FKfWZMKKeBr0",
      "execution_count": null,
      "outputs": []
    },
    {
      "cell_type": "code",
      "source": [
        "data2 = pd.read_csv('liked_p2.csv')"
      ],
      "metadata": {
        "id": "EdPuo3mleKkL"
      },
      "id": "EdPuo3mleKkL",
      "execution_count": null,
      "outputs": []
    },
    {
      "cell_type": "code",
      "source": [
        "audio_features_p2"
      ],
      "metadata": {
        "id": "aoiQShoQl8yz"
      },
      "id": "aoiQShoQl8yz",
      "execution_count": null,
      "outputs": []
    },
    {
      "cell_type": "code",
      "source": [
        "classes = []\n",
        "for index, row in audio_features[columns].iterrows():\n",
        "  classes.append(model.predict(row.values.reshape(1, -1))[0])\n"
      ],
      "metadata": {
        "id": "lVoWZffxmJyt"
      },
      "id": "lVoWZffxmJyt",
      "execution_count": null,
      "outputs": []
    },
    {
      "cell_type": "code",
      "source": [
        "# Calculate similarity scores based on distance of all songs from cluster centers\n",
        "# value between 0 and 1\n",
        "similarity_score_1_2 = 0\n",
        "\n",
        "classes = [0, 1, 2, 3, 4]\n",
        "cluster_map = pd.DataFrame()\n",
        "cluster_map['data_index'] = audio_features[columns].index.values\n",
        "cluster_map['cluster'] = model.labels_\n",
        "cluster_map['dists'] = cluster_map.apply(lambda row: euclidean_distance(model.cluster_centers_[row['cluster']], audio_features[columns].iloc[row['data_index']].values), axis = 1)\n",
        "\n",
        "max_dists = []\n",
        "for classVal in classes:\n",
        "  max_dists.append(cluster_map[cluster_map['cluster'] == classVal]['dists'].max())\n",
        "# cluster_map\n",
        "max_dists"
      ],
      "metadata": {
        "id": "-nyYZs_NmcqK"
      },
      "id": "-nyYZs_NmcqK",
      "execution_count": null,
      "outputs": []
    },
    {
      "cell_type": "code",
      "source": [
        "p2_prediction = model.predict(audio_features_p2[columns])\n",
        "p2_prediction"
      ],
      "metadata": {
        "id": "uoa_HiXDnY-i"
      },
      "id": "uoa_HiXDnY-i",
      "execution_count": null,
      "outputs": []
    },
    {
      "cell_type": "code",
      "source": [
        "for index, pred in enumerate(p2_prediction):\n",
        "  t = euclidean_distance(audio_features[columns].iloc[index], model.cluster_centers_[pred]) / max_dists[pred]\n",
        "  similarity_score_1_2+=t\n",
        "similarity_score_1_2 /= len(p2_prediction)"
      ],
      "metadata": {
        "id": "LlPCxEIHwIYd"
      },
      "id": "LlPCxEIHwIYd",
      "execution_count": null,
      "outputs": []
    },
    {
      "cell_type": "code",
      "source": [
        "similarity_score_1_2"
      ],
      "metadata": {
        "id": "PQqqlMbD0J_i"
      },
      "id": "PQqqlMbD0J_i",
      "execution_count": null,
      "outputs": []
    }
  ],
  "metadata": {
    "kernelspec": {
      "display_name": "Python 3 (ipykernel)",
      "language": "python",
      "name": "python3"
    },
    "language_info": {
      "codemirror_mode": {
        "name": "ipython",
        "version": 3
      },
      "file_extension": ".py",
      "mimetype": "text/x-python",
      "name": "python",
      "nbconvert_exporter": "python",
      "pygments_lexer": "ipython3",
      "version": "3.9.9"
    },
    "colab": {
      "name": "Spotify_suggestions.ipynb",
      "provenance": [],
      "collapsed_sections": []
    }
  },
  "nbformat": 4,
  "nbformat_minor": 5
}