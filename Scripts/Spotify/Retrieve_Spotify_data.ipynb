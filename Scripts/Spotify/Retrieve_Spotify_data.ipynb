{
 "cells": [
  {
   "cell_type": "markdown",
   "id": "2e6e09bb",
   "metadata": {},
   "source": [
    "# Getting data from spotify for RecNet"
   ]
  },
  {
   "cell_type": "code",
   "execution_count": null,
   "id": "17def3d3",
   "metadata": {},
   "outputs": [],
   "source": [
    "import pandas as pd\n",
    "import requests\n",
    "from requests.structures import CaseInsensitiveDict\n",
    "import json\n",
    "\n",
    "pd.options.mode.chained_assignment = None  # default='warn'"
   ]
  },
  {
   "cell_type": "markdown",
   "id": "1216466e",
   "metadata": {},
   "source": [
    "### Update your username below. This is just to identify that its your data, so it can be anything. In the actual implementation this can be replaced with RecNet username."
   ]
  },
  {
   "cell_type": "code",
   "execution_count": null,
   "id": "8f8c5288",
   "metadata": {},
   "outputs": [],
   "source": [
    "username = 'neel'"
   ]
  },
  {
   "cell_type": "markdown",
   "id": "ce7fee1e",
   "metadata": {},
   "source": [
    "### Step 1: Download a csv file from https://watsonbox.github.io/exportify/, and assign the path variable with its appropriate location."
   ]
  },
  {
   "cell_type": "code",
   "execution_count": null,
   "id": "9bf09b37",
   "metadata": {},
   "outputs": [],
   "source": [
    "path = 'liked.csv'\n",
    "df = pd.read_csv(path)\n",
    "print(\"Downloaded data:\")\n",
    "df"
   ]
  },
  {
   "cell_type": "code",
   "execution_count": null,
   "id": "9fae2caa",
   "metadata": {},
   "outputs": [],
   "source": [
    "print(\"Relevant data: \")\n",
    "data = df[['Track URI', 'Track Name', 'Artist URI(s)', 'Artist Name(s)', 'Popularity']]\n",
    "for i, row in data.iterrows():\n",
    "    data.at[i, 'Artist'] = row['Artist Name(s)'].split(',')[0]\n",
    "    data.at[i, 'Other Artists'] = ','.join(row['Artist Name(s)'].split(',')[1:])\n",
    "data"
   ]
  },
  {
   "cell_type": "markdown",
   "id": "abc12850",
   "metadata": {},
   "source": [
    "### Assign the genereted on Spotify console below (as a string)\n",
    "Generate code here: https://developer.spotify.com/console/get-audio-features-several-tracks/\n",
    "\n",
    "Note: Make sure you copy the entire token (its kinda huge and may have a lot of hyphens, so avoid selecting using a double click, instead use cmd+A (or its equivalent))"
   ]
  },
  {
   "cell_type": "code",
   "execution_count": 1,
   "id": "b9d70a87",
   "metadata": {},
   "outputs": [],
   "source": [
    "\n",
    "token = ''\n"
   ]
  },
  {
   "cell_type": "code",
   "execution_count": null,
   "id": "e7903606",
   "metadata": {},
   "outputs": [],
   "source": [
    "track_ids = 'ids='\n",
    "for row in df['Track URI']:\n",
    "    track_ids += row.split(':')[2] + '%2C'\n",
    "track_ids\n",
    "\n",
    "url = \"https://api.spotify.com/v1/audio-features\"\n",
    "url += '?' + track_ids\n",
    "headers = CaseInsensitiveDict()\n",
    "headers[\"Accept\"] = \"application/json\"\n",
    "headers[\"Content-Type\"] = \"application/json\"\n",
    "headers[\"Authorization\"] = \"Bearer \" + token\n",
    "resp = requests.get(url, headers=headers)\n",
    "audio_features_json = resp.json()\n",
    "audio_features_df = pd.json_normalize(audio_features_json['audio_features'])\n",
    "audio_features = audio_features_df[['uri', 'danceability', 'energy', 'loudness', 'speechiness', 'acousticness', 'instrumentalness', 'liveness', 'valence']]\n",
    "audio_features = audio_features.rename(columns = {'uri': 'Track URI'})\n",
    "audio_features"
   ]
  },
  {
   "cell_type": "markdown",
   "id": "d41418eb",
   "metadata": {},
   "source": [
    "### Extracting album ids and getting genre details"
   ]
  },
  {
   "cell_type": "code",
   "execution_count": null,
   "id": "f5433153",
   "metadata": {},
   "outputs": [],
   "source": [
    "album_ids = []\n",
    "\n",
    "for row in df['Album URI']:\n",
    "    album_ids.append(row.split(':')[2])\n",
    "    \n",
    "album_ids = list(dict.fromkeys(album_ids))\n",
    "batch_size = 15\n",
    "batches = []\n",
    "i = 0\n",
    "while i < len(album_ids):\n",
    "    batch = album_ids[i:i+batch_size]\n",
    "    i += len(batch)\n",
    "    batches.append(batch)\n",
    "    \n",
    "del(album_genres)\n",
    "for batch in batches:\n",
    "    album_ids_url = 'ids='\n",
    "    for album_id in batch:\n",
    "        album_ids_url += album_id + '%2C'\n",
    "    \n",
    "    album_ids_url = album_ids_url[0:len(album_ids_url) - 3]\n",
    "    url = \"https://api.spotify.com/v1/albums\"\n",
    "    url += '?' + album_ids_url\n",
    "    \n",
    "    headers = CaseInsensitiveDict()\n",
    "    headers[\"Accept\"] = \"application/json\"\n",
    "    headers[\"Content-Type\"] = \"application/json\"\n",
    "    headers[\"Authorization\"] = \"Bearer \" + token\n",
    "    resp = requests.get(url, headers=headers)\n",
    "    album_details_json = resp.json()\n",
    "\n",
    "    album_details_df = pd.json_normalize(album_details_json['albums'])\n",
    "    try:\n",
    "        album_genres\n",
    "    except NameError:\n",
    "        album_genres = album_details_df[['uri', 'genres']]\n",
    "        album_genres = album_genres.rename(columns = {'uri': 'Album URI'})\n",
    "    else:\n",
    "        album_genres2 = album_details_df[['uri', 'genres']]\n",
    "        album_genres2 = album_genres2.rename(columns = {'uri': 'Album URI'})\n",
    "        album_genres = pd.concat([album_genres, album_genres2],ignore_index=True)\n",
    "album_genres\n"
   ]
  },
  {
   "cell_type": "markdown",
   "id": "2fbb6d5c",
   "metadata": {},
   "source": [
    "## Merging all the retrieved data and saving it to username_spotifydata.csv."
   ]
  },
  {
   "cell_type": "code",
   "execution_count": null,
   "id": "e3fc57e3",
   "metadata": {},
   "outputs": [],
   "source": [
    "data = df[['Track URI', 'Album URI', 'Track Name', 'Artist URI(s)', 'Artist Name(s)', 'Popularity']]\n",
    "data = pd.merge(data, audio_features, on = ['Track URI'])\n",
    "data = pd.merge(data, album_genres, on=['Album URI'])\n",
    "data['Username'] = username\n",
    "data"
   ]
  },
  {
   "cell_type": "code",
   "execution_count": null,
   "id": "7a2c8ac4",
   "metadata": {},
   "outputs": [],
   "source": [
    "data.to_csv(username + 'spotifydata.csv')"
   ]
  }
 ],
 "metadata": {
  "kernelspec": {
   "display_name": "Python 3 (ipykernel)",
   "language": "python",
   "name": "python3"
  },
  "language_info": {
   "codemirror_mode": {
    "name": "ipython",
    "version": 3
   },
   "file_extension": ".py",
   "mimetype": "text/x-python",
   "name": "python",
   "nbconvert_exporter": "python",
   "pygments_lexer": "ipython3",
   "version": "3.9.9"
  }
 },
 "nbformat": 4,
 "nbformat_minor": 5
}
